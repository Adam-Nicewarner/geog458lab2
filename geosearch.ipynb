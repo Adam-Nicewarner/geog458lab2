{
  "cells": [
    {
      "cell_type": "code",
      "execution_count": null,
      "metadata": {
        "id": "EtnaSlH-wplB"
      },
      "outputs": [],
      "source": [
        "# created on Dec 24, 2020\n",
        "# modified on April 12, 2022\n",
        "# @author:          Bo Zhao\n",
        "# @email:           zhaobo@uw.edu\n",
        "# @website:         https://hgis.uw.edu\n",
        "# @organization:    Department of Geography, University of Washington, Seattle\n",
        "# @description:     Search geo-tagged tweets within the U.S. This script is modified from https://github.com/shawn-terryah/Twitter_Geolocation"
      ]
    },
    {
      "cell_type": "code",
      "execution_count": null,
      "metadata": {
        "id": "f-bMdKMawxnQ",
        "outputId": "e885cdeb-7c29-476c-86c7-132eadd2ff74",
        "colab": {
          "base_uri": "https://localhost:8080/"
        }
      },
      "outputs": [
        {
          "output_type": "stream",
          "name": "stdout",
          "text": [
            "Mounted at /gdrive\n"
          ]
        }
      ],
      "source": [
        "import tweepy, json, time\n",
        "import pandas as pd\n",
        "from google.colab import files\n",
        "# Create data on to Google Drive\n",
        "from google.colab import drive\n",
        "# Mount your Drive to the Colab VM.\n",
        "drive.mount('/gdrive')"
      ]
    },
    {
      "cell_type": "code",
      "execution_count": null,
      "metadata": {
        "id": "dEyPts-ZwplE"
      },
      "outputs": [],
      "source": [
        "class StreamListener(tweepy.StreamListener):\n",
        "    \"\"\"tweepy.StreamListener is a class provided by tweepy used to access\n",
        "    the Twitter Streaming API to collect tweets in real-time.\n",
        "    \"\"\"\n",
        "\n",
        "    def __init__(self, time_limit=60, file=\"\"):\n",
        "        \"\"\"class initialization\"\"\"\n",
        "        self.start_time = time.time()\n",
        "        self.limit = time_limit\n",
        "        self.result = []\n",
        "        self.f = file\n",
        "        super(StreamListener, self).__init__()\n",
        "\n",
        "    def on_data(self, data):\n",
        "        \"\"\"This is called when data are streamed in.\"\"\"\n",
        "        if (time.time() - self.start_time) < self.limit:\n",
        "            datajson = json.loads(data)\n",
        "            # print(datajson, \"\\n\")\n",
        "            if 'id' not in datajson.keys():\n",
        "                time.sleep(10)\n",
        "            else:\n",
        "                id = datajson['id']\n",
        "                username = datajson['user']['screen_name']\n",
        "                created_at = datajson['created_at']\n",
        "                text = datajson['text'].strip().replace(\"\\n\", \"\")\n",
        "\n",
        "                # process the geo-tags\n",
        "                if datajson['coordinates'] == None:\n",
        "                    try:\n",
        "                        bbox = datajson['place']['bounding_box']['coordinates'][0]\n",
        "                        lng = (bbox[0][0] + bbox[2][0]) / 2.0\n",
        "                        lat = (bbox[0][1] + bbox[1][1]) / 2.0\n",
        "                    except:\n",
        "                        lat = 0\n",
        "                        lng = 0\n",
        "                else:\n",
        "                    lng = datajson['coordinates']['coordinates'][0]\n",
        "                    lat = datajson['coordinates']['coordinates'][1]\n",
        "\n",
        "                if lat != 0:\n",
        "                    row = {\n",
        "                        'id': id,\n",
        "                        'username': username,\n",
        "                        'created_at': created_at,\n",
        "                        'lng': lng,\n",
        "                        'lat': lat,\n",
        "                        'text': text\n",
        "                    }\n",
        "                    print(row)\n",
        "                    self.result.append(row)\n",
        "                else:\n",
        "                    pass\n",
        "        else:\n",
        "            df = pd.DataFrame(self.result)\n",
        "            df.to_csv(self.f, index=False)\n",
        "            # download the csv to your local computer\n",
        "            files.download(self.f)\n",
        "            print(\"the csv has been downloaded to your local computer. The program has been completed successfully.\")\n",
        "            return False"
      ]
    },
    {
      "cell_type": "code",
      "execution_count": null,
      "metadata": {
        "id": "5Xzyo_OiwplG",
        "outputId": "e66af9a5-3528-4be9-9cce-f7dc70eec389",
        "colab": {
          "base_uri": "https://localhost:8080/",
          "height": 887
        }
      },
      "outputs": [
        {
          "output_type": "stream",
          "name": "stdout",
          "text": [
            "{'id': 1517385593390792705, 'username': 'mohsin_speaks', 'created_at': 'Fri Apr 22 06:11:31 +0000 2022', 'lng': 150.931975, 'lat': -33.848244, 'text': 'Best one from the lot.'}\n",
            "{'id': 1517385629633433600, 'username': 'MichaelStylian9', 'created_at': 'Fri Apr 22 06:11:40 +0000 2022', 'lng': 150.931975, 'lat': -33.848244, 'text': '@MIGHTYSPURZ Good afternoon from a wet Sydney #COYS'}\n",
            "{'id': 1517385640895455232, 'username': 'deirdre_mcq', 'created_at': 'Fri Apr 22 06:11:43 +0000 2022', 'lng': 115.9283185, 'lat': -32.1501005, 'text': '@pearlparky Why do they hassle the underemployed more than the unemployed?I was safely unemployed for six years bu… https://t.co/srMpQa6G0q'}\n",
            "{'id': 1517385691944001536, 'username': 'MillenialSinGrl', 'created_at': 'Fri Apr 22 06:11:55 +0000 2022', 'lng': 150.931975, 'lat': -33.848244, 'text': '@my2ndsinglelife It was opened months ago 🤦🏻\\u200d♀️\\U0001f972'}\n",
            "{'id': 1517385712588705792, 'username': 'MacMate_', 'created_at': 'Fri Apr 22 06:12:00 +0000 2022', 'lng': 150.931975, 'lat': -33.848244, 'text': 'Happy international beagle day from me and the Piconator https://t.co/HNG2q4aiJN'}\n",
            "{'id': 1517385721752875008, 'username': 'sixela1912', 'created_at': 'Fri Apr 22 06:12:02 +0000 2022', 'lng': 145.0531355, 'lat': -37.9725665, 'text': 'I’m so scared to watch this episode huhuhu'}\n",
            "{'id': 1517385761422602240, 'username': 'antonposa', 'created_at': 'Fri Apr 22 06:12:11 +0000 2022', 'lng': 150.931975, 'lat': -33.848244, 'text': \"Tuilagi and Olakau'atu on the edges, Schuster at 6 I would imagine? That's pretty saucy.\"}\n",
            "{'id': 1517385786475573248, 'username': 'iam_mnjt', 'created_at': 'Fri Apr 22 06:12:17 +0000 2022', 'lng': 138.61115999999998, 'lat': -35.000766999999996, 'text': '@JessicaWoochnar hinkley has lost the plot https://t.co/hqzqJmj3sr'}\n",
            "{'id': 1517385827328094208, 'username': 'Sycorax2020', 'created_at': 'Fri Apr 22 06:12:27 +0000 2022', 'lng': 115.9283185, 'lat': -32.1501005, 'text': '@robkhenderson Locke v Bentham?'}\n",
            "{'id': 1517385863923044352, 'username': 'ChelseaFCOwner', 'created_at': 'Fri Apr 22 06:12:36 +0000 2022', 'lng': 138.61115999999998, 'lat': -35.000766999999996, 'text': '@sharkylammas Amen'}\n",
            "{'id': 1517385918386425859, 'username': 'DanielB25183373', 'created_at': 'Fri Apr 22 06:12:49 +0000 2022', 'lng': 146.946241, 'lat': -36.065363, 'text': '@SportingTruth_ @Hei5senberg @7AFL Senior definitely. Easily'}\n",
            "{'id': 1517385981183524864, 'username': 'PlaneTWUsailing', 'created_at': 'Fri Apr 22 06:13:04 +0000 2022', 'lng': 144.720327, 'lat': -37.5619575, 'text': 'This is putrid from @frankelly08 interviewing @AlboMP What bias rubbish, pushing Lib talking points &amp; interrupting… https://t.co/Wm49tqVb4J'}\n",
            "{'id': 1517386069280722944, 'username': 'mikeaubrey2', 'created_at': 'Fri Apr 22 06:13:25 +0000 2022', 'lng': 150.931975, 'lat': -33.848244, 'text': '@xskinn @favfavalore Well past time this week 🥂🍾🥂enjoy your weekend including furries 🐈🐱🐈🐕🐶🐕'}\n",
            "{'id': 1517386086976172032, 'username': 'andrewmacfnz', 'created_at': 'Fri Apr 22 06:13:29 +0000 2022', 'lng': 150.931975, 'lat': -33.848244, 'text': 'Melbourne! Go and see the legend that is Melanie Bracewell. You will NOT regret it.'}\n",
            "{'id': 1517386101639434240, 'username': 'wrong_jane', 'created_at': 'Fri Apr 22 06:13:32 +0000 2022', 'lng': 145.0531355, 'lat': -37.9725665, 'text': 'For Fucks sake , Kelly Jennet , and @abcnews generally running protection for Morrison and bagging Labor , getting… https://t.co/fJfYTsjRYi'}\n",
            "{'id': 1517386102889680902, 'username': 'Mr_Wordle', 'created_at': 'Fri Apr 22 06:13:33 +0000 2022', 'lng': 145.0531355, 'lat': -37.9725665, 'text': '@MattGurchenko @dark_techno59 @Beamerb77269429 @Leew96727210 @MrInbetween1 @plehsdeennoraA @Garyandthegoat1… https://t.co/uSB5g5T4iP'}\n",
            "{'id': 1517386110703267840, 'username': 'BreakAtmo', 'created_at': 'Fri Apr 22 06:13:35 +0000 2022', 'lng': 145.0531355, 'lat': -37.9725665, 'text': \"@ScreamngMantis I've got the same thing in a few days. I hope your +1 to Age Day is wonderful.\"}\n",
            "{'id': 1517386110741061632, 'username': 'NutellaDude', 'created_at': 'Fri Apr 22 06:13:35 +0000 2022', 'lng': 150.931975, 'lat': -33.848244, 'text': '@helen_bayliss Happy Friday'}\n",
            "{'id': 1517386173781397504, 'username': 'Granville4879', 'created_at': 'Fri Apr 22 06:13:50 +0000 2022', 'lng': 145.7169445, 'lat': -16.880526500000002, 'text': '@call_me_tomasso I have never thought to try smoking a dog.BTW that sign shows a dog smoking, not a smoking dog.'}\n",
            "{'id': 1517386240458641408, 'username': 'djaysonicoff', 'created_at': 'Fri Apr 22 06:14:06 +0000 2022', 'lng': 150.931975, 'lat': -33.848244, 'text': 'Anyone got a Fite TV account they wanna share with me? #fitetv'}\n",
            "{'id': 1517386240609648642, 'username': 'socialsushii', 'created_at': 'Fri Apr 22 06:14:06 +0000 2022', 'lng': 115.9283185, 'lat': -32.1501005, 'text': '@BlakeNadilo Can do! Xx'}\n",
            "{'id': 1517386247270187009, 'username': '58wassupwassup', 'created_at': 'Fri Apr 22 06:14:07 +0000 2022', 'lng': 150.931975, 'lat': -33.848244, 'text': '@NRL @McDonalds make it happen https://t.co/63cFg2bMuG'}\n",
            "{'id': 1517386259353960448, 'username': 'mikeaubrey2', 'created_at': 'Fri Apr 22 06:14:10 +0000 2022', 'lng': 150.931975, 'lat': -33.848244, 'text': '@Darthspoog Just did today'}\n",
            "{'id': 1517386273874341890, 'username': 'rsl1957', 'created_at': 'Fri Apr 22 06:14:14 +0000 2022', 'lng': 150.054347, 'lat': -32.83104, 'text': '@KiLeRaD @agvocate_au @HolbrookLN @bidgeewidgee @SeedingVictoria @MLLSEnviro @ANBG @chimera414 Never noticed that before'}\n",
            "{'id': 1517386293155614720, 'username': 'kelliejansen1', 'created_at': 'Fri Apr 22 06:14:18 +0000 2022', 'lng': 149.1869, 'lat': -21.1434, 'text': 'Just posted a photo @ Mackay, Queensland https://t.co/3VZcp5Li9T'}\n",
            "{'id': 1517386360335704065, 'username': 'dzennon', 'created_at': 'Fri Apr 22 06:14:34 +0000 2022', 'lng': 150.931975, 'lat': -33.848244, 'text': '@badgalsez Awwww I liked it 🥺'}\n",
            "{'id': 1517386371941294080, 'username': 'Magusrex3', 'created_at': 'Fri Apr 22 06:14:37 +0000 2022', 'lng': 145.4691805, 'lat': -36.569808, 'text': '@LesBian92251216 All their lives they will be worrying about their gender identity and their sexuality😱😥This is no… https://t.co/0p0hQzukbI'}\n",
            "{'id': 1517386372591480833, 'username': 'antonposa', 'created_at': 'Fri Apr 22 06:14:37 +0000 2022', 'lng': 150.931975, 'lat': -33.848244, 'text': 'Junior \"Bar-loh\" from now on, guys.'}\n",
            "{'id': 1517386377826271232, 'username': 'MilesRacing', 'created_at': 'Fri Apr 22 06:14:38 +0000 2022', 'lng': 145.4691805, 'lat': -36.569808, 'text': '@PacificPonies @racingraphael @inglis_sales @daisyhillbreed Geez I’m off Twitter for 24 hors and I apparently own a share in another one🤣🤣🤣'}\n",
            "{'id': 1517386378728046592, 'username': 'KColdrey', 'created_at': 'Fri Apr 22 06:14:39 +0000 2022', 'lng': 145.0531355, 'lat': -37.9725665, 'text': '@AndrewKirbyGolf @davidmatheson27 I think the point is moot. Does it matter where they live, really? Sanctions hurt… https://t.co/uQ7LimObIh'}\n",
            "{'id': 1517386388194308096, 'username': 'MillenialSinGrl', 'created_at': 'Fri Apr 22 06:14:41 +0000 2022', 'lng': 150.931975, 'lat': -33.848244, 'text': '@my2ndsinglelife Hahaha I think so too. Although my tummy did rumble quite a few times after that meal. I threw the remaining pack 😁'}\n",
            "{'id': 1517386391407104001, 'username': 'Stepho091', 'created_at': 'Fri Apr 22 06:14:42 +0000 2022', 'lng': 145.0531355, 'lat': -37.9725665, 'text': 'cock https://t.co/US9z2VcDXC'}\n",
            "{'id': 1517386396985864192, 'username': 'mikeaubrey2', 'created_at': 'Fri Apr 22 06:14:43 +0000 2022', 'lng': 150.931975, 'lat': -33.848244, 'text': '@mariewalsh18 @Stringy32 Exactly'}\n",
            "{'id': 1517386415956705280, 'username': 'iam_mnjt', 'created_at': 'Fri Apr 22 06:14:47 +0000 2022', 'lng': 138.61115999999998, 'lat': -35.000766999999996, 'text': '@Nobody_ShibaDog @Seansimmonds11 @ClassyCrypto_ wow is that a shiba army???'}\n",
            "{'id': 1517386445253902336, 'username': 'hhgttg69', 'created_at': 'Fri Apr 22 06:14:54 +0000 2022', 'lng': 143.85274099999998, 'lat': -37.567452, 'text': '@Only9built Bottom'}\n",
            "{'id': 1517386457128005632, 'username': 'krispypapa', 'created_at': 'Fri Apr 22 06:14:57 +0000 2022', 'lng': 145.0531355, 'lat': -37.9725665, 'text': '@Bosslogic @DrStrange @MarvelAUNZ Oooh yeah! 😍 https://t.co/96igAgpHVR'}\n",
            "{'id': 1517386469937188865, 'username': 'pointhacks', 'created_at': 'Fri Apr 22 06:15:00 +0000 2022', 'lng': 136.0151665, 'lat': -26.441329, 'text': 'In our latest Point Hacks exclusive interview, we catch up with @etihad Vice President Kim Hardaker to talk points,… https://t.co/qQejd3dQh8'}\n",
            "{'id': 1517386508268830720, 'username': 'LizDolphinfluff', 'created_at': 'Fri Apr 22 06:15:09 +0000 2022', 'lng': 149.1297825, 'lat': -35.3139795, 'text': \"Everyone's seen this TikTok of the dog breeds reacting to a robber right? RIGHT?My faves are the Golden Retriever… https://t.co/gHECu5e8FL\"}\n",
            "{'id': 1517386531195207680, 'username': 'dropbear2_0', 'created_at': 'Fri Apr 22 06:15:15 +0000 2022', 'lng': 150.931975, 'lat': -33.848244, 'text': 'Bizzare that @ljayes hasn’t deleted her completely wrong tweet even when she’s been provided with the evidence that… https://t.co/z48JfBdCvN'}\n",
            "{'id': 1517386539567054849, 'username': 'MelbunMan', 'created_at': 'Fri Apr 22 06:15:17 +0000 2022', 'lng': 145.4691805, 'lat': -36.569808, 'text': '@i_like_birds_x And then Murdoch took Foxtel offshore to Delaware, USA where there is little corporate transparency. Rogues.'}\n",
            "{'id': 1517386544809938946, 'username': 'aquilaaudax2620', 'created_at': 'Fri Apr 22 06:15:18 +0000 2022', 'lng': 150.054347, 'lat': -32.83104, 'text': 'AFL \"A New Era in Footy Collectables\" NFT - what a waste of money 💰'}\n",
            "{'id': 1517386592205168640, 'username': 'alexmillier', 'created_at': 'Fri Apr 22 06:15:29 +0000 2022', 'lng': 115.9283185, 'lat': -32.1501005, 'text': 'The “culture” in WA since I arrived here from SA in 1996 has ALWAYS been car-centric. Pedestrians and cyclists and… https://t.co/6AKv1neW7R'}\n",
            "{'id': 1517386654528720896, 'username': 'lyng62', 'created_at': 'Fri Apr 22 06:15:44 +0000 2022', 'lng': 150.931975, 'lat': -33.848244, 'text': '@SharksRcb Doesn’t seem a sensible choice does it !!!'}\n",
            "{'id': 1517386657624117248, 'username': 'drraghnall', 'created_at': 'Fri Apr 22 06:15:45 +0000 2022', 'lng': 145.0531355, 'lat': -37.9725665, 'text': '@JoashParker @Egrange2080 @severs_jeanette Of course it’s not typical. As you would know, it’s called a visual climb over airport or VCOA.'}\n",
            "{'id': 1517386673218228224, 'username': 'Magusrex3', 'created_at': 'Fri Apr 22 06:15:49 +0000 2022', 'lng': 145.4691805, 'lat': -36.569808, 'text': '@debjw88 @rday_day Agree 💯👍'}\n",
            "{'id': 1517386688607121409, 'username': 'DrGCrisp', 'created_at': 'Fri Apr 22 06:15:52 +0000 2022', 'lng': 115.9283185, 'lat': -32.1501005, 'text': \"@hindmarshisking No they didn't. But I think killing several million people each year with air pollution and contr… https://t.co/IFthf4Kcc5\"}\n",
            "{'id': 1517386770744180736, 'username': 'DarrachG', 'created_at': 'Fri Apr 22 06:16:12 +0000 2022', 'lng': 150.931975, 'lat': -33.848244, 'text': '@WrittenPaige Thank you.I just appreciate lovely writing ❤️🙏🕊️🦋✨✨✨'}\n",
            "{'id': 1517386806005624832, 'username': 'benjamindwill', 'created_at': 'Fri Apr 22 06:16:20 +0000 2022', 'lng': 138.61115999999998, 'lat': -35.000766999999996, 'text': '@adrianjackson @_corycasual @mlindsay_mark @melbournedean @mbird12 @j_lindsay2410 @FrenchProfessor @ABFreier What a… https://t.co/MCwERkmTYT'}\n"
          ]
        },
        {
          "output_type": "display_data",
          "data": {
            "text/plain": [
              "<IPython.core.display.Javascript object>"
            ],
            "application/javascript": [
              "\n",
              "    async function download(id, filename, size) {\n",
              "      if (!google.colab.kernel.accessAllowed) {\n",
              "        return;\n",
              "      }\n",
              "      const div = document.createElement('div');\n",
              "      const label = document.createElement('label');\n",
              "      label.textContent = `Downloading \"${filename}\": `;\n",
              "      div.appendChild(label);\n",
              "      const progress = document.createElement('progress');\n",
              "      progress.max = size;\n",
              "      div.appendChild(progress);\n",
              "      document.body.appendChild(div);\n",
              "\n",
              "      const buffers = [];\n",
              "      let downloaded = 0;\n",
              "\n",
              "      const channel = await google.colab.kernel.comms.open(id);\n",
              "      // Send a message to notify the kernel that we're ready.\n",
              "      channel.send({})\n",
              "\n",
              "      for await (const message of channel.messages) {\n",
              "        // Send a message to notify the kernel that we're ready.\n",
              "        channel.send({})\n",
              "        if (message.buffers) {\n",
              "          for (const buffer of message.buffers) {\n",
              "            buffers.push(buffer);\n",
              "            downloaded += buffer.byteLength;\n",
              "            progress.value = downloaded;\n",
              "          }\n",
              "        }\n",
              "      }\n",
              "      const blob = new Blob(buffers, {type: 'application/binary'});\n",
              "      const a = document.createElement('a');\n",
              "      a.href = window.URL.createObjectURL(blob);\n",
              "      a.download = filename;\n",
              "      div.appendChild(a);\n",
              "      a.click();\n",
              "      div.remove();\n",
              "    }\n",
              "  "
            ]
          },
          "metadata": {}
        },
        {
          "output_type": "display_data",
          "data": {
            "text/plain": [
              "<IPython.core.display.Javascript object>"
            ],
            "application/javascript": [
              "download(\"download_bd0d4416-71c2-4802-a6b8-ac535b932c7e\", \"geotweets.csv\", 8396)"
            ]
          },
          "metadata": {}
        },
        {
          "output_type": "stream",
          "name": "stdout",
          "text": [
            "the csv has been downloaded to your local computer. The program has been completed successfully.\n"
          ]
        }
      ],
      "source": [
        "if __name__ == \"__main__\":\n",
        "    # These are provided to you through the Twitter API after you create a account\n",
        "    # register a Twitter App to get the keys and access tokens.\n",
        "    output_file = '/gdrive/My Drive/geotweets.csv'\n",
        "\n",
        "    # Apply for your own Twitter API keys at https://developer.twitter.com/en/apply-for-access\n",
        "    consumer_key = \"censored\"\n",
        "    consumer_secret = \"censored\"\n",
        "    access_token = \"censored\"\n",
        "    access_token_secret = \"censored\"\n",
        "\n",
        "    myauth = tweepy.OAuthHandler(consumer_key, consumer_secret)\n",
        "    myauth.set_access_token(access_token, access_token_secret)\n",
        "\n",
        "    # LOCATIONS are the longitude, latitude coordinate corners for a box that restricts the\n",
        "    # geographic area from which you will stream tweets. The first two define the southwest\n",
        "    # corner of the box and the second two define the northeast corner of the box.\n",
        "    LOCATIONS = [#-10.68747448774834, 50.63867628531592, 0.8184988411602326, 58.380364290387824,  # The UK , \n",
        "                 110.11672557434858, -37.79116182236319, 152.12789241835733, -11.5066289531987,  # Australia , \n",
        "                # -160.161542, 18.776344, -154.641396, 22.878623 # Hawaii\n",
        "                 ]  \n",
        "\n",
        "    stream_listener = StreamListener(time_limit=300, file=output_file)\n",
        "    stream = tweepy.Stream(auth=myauth, listener=stream_listener)\n",
        "    stream.filter(locations=LOCATIONS, languages=['en'], encoding=\"utf-8\")"
      ]
    }
  ],
  "metadata": {
    "colab": {
      "collapsed_sections": [],
      "name": "Copy of Copy of 02_geosearch.ipynb",
      "provenance": []
    },
    "kernelspec": {
      "display_name": "Python 3",
      "language": "python",
      "name": "python3"
    },
    "language_info": {
      "codemirror_mode": {
        "name": "ipython",
        "version": 3
      },
      "file_extension": ".py",
      "mimetype": "text/x-python",
      "name": "python",
      "nbconvert_exporter": "python",
      "pygments_lexer": "ipython3",
      "version": "3.7.4"
    }
  },
  "nbformat": 4,
  "nbformat_minor": 0
}